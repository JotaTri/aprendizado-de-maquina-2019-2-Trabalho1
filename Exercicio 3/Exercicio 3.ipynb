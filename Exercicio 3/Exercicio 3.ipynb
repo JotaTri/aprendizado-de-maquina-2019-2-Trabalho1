{
 "cells": [
  {
   "cell_type": "markdown",
   "metadata": {},
   "source": [
    "## Exercício 3\n",
    "\n",
    "### a)\n",
    "\n",
    "\\begin{center}\n",
    "$\\operatorname { C_ { a } } \\left\\{ \\begin{array} { l } { \\mu _ { a } = 0,5 } \\\\ { \\sigma _ { a } ^ { 2 } = 1 / 12 } \\\\ { P \\left( C _ { a } \\right) = 0,6 } \\end{array} \\right.$\n",
    "\n",
    "\n",
    "$P \\left( x / C _ { a } \\right) = \\left\\{ \\begin{array} { l l } { 1 , } & { 0 \\leq x \\leq 1 } \\\\ { 0 } & { , x < 0 e 1 < x } \\end{array} \\right.$\n",
    "\n",
    "\\end{center}\n",
    "\n",
    "\\begin{center}\n",
    "$C _ { b } = \\left\\{ \\begin{array} { l } { \\mu _ { b } = 2 } \\\\ { \\sigma _ { b } ^ { 2 } = 1 } \\\\ { P \\left( c _ { b } \\right) = 0,4 } \\end{array} \\right.$\n",
    "\n",
    "$P \\left( x | C _ { b } \\right) = \\frac { 1 } { \\sqrt { 2 \\pi } \\cdot \\sigma _ { b } } \\exp \\left[ - \\frac { \\left( x - \\mu _ { s } \\right) ^ { 2 } } { 2 \\sigma _ { b } ^ { 2 } } \\right]$\n",
    "\n",
    "$P \\left( X | C _ { b } \\right) = \\frac { 1 } { \\sqrt { 2 \\pi } } \\exp \\left[ - \\frac { ( x - 2 ) } { 2 } \\right]$\n",
    "\\end{center}\n",
    "\n",
    "\\begin{center}\n",
    "$P \\left( C _ { i } | x \\right) = P \\left( x | c _ { i } \\right) \\cdot P \\left( c _ { i } \\right)$\n",
    "\n",
    "\n",
    "$P \\left( C _ { a } | x \\right) = \\left\\{ \\begin{array} { c l } { P \\left( C _ { a } \\right) , } & { 0 \\leq x \\leq 1 } \\\\ { 0 } & { , x < 0 e 1 < x } \\end{array} \\right.$\n",
    "\n",
    "$P \\left( C _ { b } | x \\right) = \\frac { P \\left( C _ { b } \\right) } { \\sqrt { 2 \\pi } } \\exp \\left[ - \\frac { ( x - 2 ) } { 2 } \\right]$\n",
    "\\end{center}\n",
    "\n",
    "\\begin{center}\n",
    "$\\max _ { k } g _ { k } ( x )$\n",
    "\\end{center}"
   ]
  }
 ],
 "metadata": {
  "kernelspec": {
   "display_name": ".venv",
   "language": "python",
   "name": ".venv"
  },
  "language_info": {
   "codemirror_mode": {
    "name": "ipython",
    "version": 3
   },
   "file_extension": ".py",
   "mimetype": "text/x-python",
   "name": "python",
   "nbconvert_exporter": "python",
   "pygments_lexer": "ipython3",
   "version": "3.6.8"
  }
 },
 "nbformat": 4,
 "nbformat_minor": 2
}
