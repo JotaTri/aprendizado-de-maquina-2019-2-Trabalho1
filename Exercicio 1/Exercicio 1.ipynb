{
 "cells": [
  {
   "cell_type": "markdown",
   "metadata": {},
   "source": [
    "## Exercicio 1\n",
    "\n",
    "### a)"
   ]
  },
  {
   "cell_type": "code",
   "execution_count": 5,
   "metadata": {},
   "outputs": [],
   "source": [
    "import numpy as np\n",
    "\n",
    "import matplotlib.pyplot as plt"
   ]
  },
  {
   "cell_type": "markdown",
   "metadata": {},
   "source": [
    "Como a função de densidade descreve a probabilidade relativa de uma variável tomar um valor dado, a probabilidade de uma variável estar entre um feixo de lavores é dado, portanto, pela área sob a função de densidade no mesmo feixe de valores. Como a função de densidade inteira demonstra todos os valores possíveis, a área total sob a função de densidade deve ser igual a 1. Como temos que ela está descrita entres os valores de **-1** e **1**, o valor de **0.5**. O código e Figura a seguir descreve como essa função de densidade de probabilidade esta descrito a seguir."
   ]
  },
  {
   "cell_type": "code",
   "execution_count": 28,
   "metadata": {},
   "outputs": [
    {
     "data": {
      "image/png": "[encoded data removed]",
      "text/plain": [
       "<Figure size 432x288 with 1 Axes>"
      ]
     },
     "metadata": {
      "needs_background": "light"
     },
     "output_type": "display_data"
    }
   ],
   "source": [
    "fig = plt.figure()\n",
    "ax = fig.add_subplot(111)\n",
    "\n",
    "uniforme = np.arange(-1,1,0.0001)\n",
    "ax.plot(uniforme, len(uniforme)*[0.5])\n",
    "ax.grid(True)\n",
    "ax.set_xlim(left=-1.5, right=1.5)\n",
    "\n",
    "plt.show()"
   ]
  },
  {
   "cell_type": "markdown",
   "metadata": {},
   "source": [
    "### b)\n",
    "\n",
    "Como a função de densidade descreve a probabilidade relativa de uma variável e a probabilidade de ocorrência de um valor estar entre um feixe de valores é dada pela área dessa função, a distribuição acumulada de probabilidade associada é dado pela integral de menos infinito a mais infinito dessa função, sendo que, como já mencionado, resulta em um valor máximo final igual a 1. A representação dessa função está representada a seguir."
   ]
  },
  {
   "cell_type": "code",
   "execution_count": 77,
   "metadata": {},
   "outputs": [
    {
     "name": "stdout",
     "output_type": "stream",
     "text": [
      "1000\n"
     ]
    },
    {
     "data": {
      "image/png": "[encoded data removed]",
      "text/plain": [
       "<Figure size 432x288 with 1 Axes>"
      ]
     },
     "metadata": {
      "needs_background": "light"
     },
     "output_type": "display_data"
    }
   ],
   "source": [
    "fig = plt.figure()\n",
    "ax = fig.add_subplot(111)\n",
    "\n",
    "step = 0.001\n",
    "prob_acu = np.arange(0, 1, step)\n",
    "print(len(prob_acu))\n",
    "ax.plot(np.arange(-1, 1, step*2), prob_acu, 'b')\n",
    "\n",
    "ax.plot(np.arange(-2, -1, 0.001), [0]*len(np.arange(-2, -1, step)), 'b')\n",
    "ax.plot(np.arange(1, 2, 0.001), [1]*len(np.arange(1, 2, step)), 'b')\n",
    "\n",
    "ax.grid(True)\n",
    "ax.set_xlim(left=-1.5, right=1.5)\n",
    "plt.show()"
   ]
  },
  {
   "cell_type": "markdown",
   "metadata": {},
   "source": [
    "### c)\n",
    "\n",
    "A probabilidade de se observar uma variável em um feixe do valor definido, deve-se obter a área da função de densidade de probabilidade nesse feixe de valor, portanto, é representado pela área abaixo e contém o valor de:\n",
    "\n",
    "\\begin{center}\n",
    "$\\int_{-0,2}^{0,2} f(x) d x=\\int_{-0,2}^{0,2} 0,5 d x=0,\\left.5 x\\right|_{-0,2} ^{0,2}=0,2$\n",
    "\\end{center}"
   ]
  },
  {
   "cell_type": "code",
   "execution_count": 82,
   "metadata": {},
   "outputs": [
    {
     "data": {
      "image/png": "[encoded data removed]",
      "text/plain": [
       "<Figure size 432x288 with 1 Axes>"
      ]
     },
     "metadata": {
      "needs_background": "light"
     },
     "output_type": "display_data"
    }
   ],
   "source": [
    "fig = plt.figure()\n",
    "ax = fig.add_subplot(111)\n",
    "\n",
    "uniforme = np.arange(-1,1,0.0001)\n",
    "ax.plot(uniforme, len(uniforme)*[0.5])\n",
    "ax.grid(True)\n",
    "ax.set_xlim(left=-1.5, right=1.5)\n",
    "ax.fill_between(np.arange(-0.2,0.2,0.0001), len(np.arange(-0.2,0.2,0.0001))*[0.5])\n",
    "plt.show()"
   ]
  },
  {
   "cell_type": "markdown",
   "metadata": {},
   "source": [
    "### d)\n",
    "\n",
    "A média é dada por:\n",
    "\\begin{center}\n",
    "$\\mu=\\frac{1-(-1)}{2}=0$\n",
    "\\end{center}\n",
    "\n",
    "O segundo momento é dado por:\n",
    "\\begin{center}\n",
    "$E\\left[x^{2}\\right]=\\int_{-\\infty}^{\\infty} x^{2} \\cdot f(x) d x=\\int_{-1}^{1} x^{2} \\cdot 1 / 2 d x=\\left.\\frac{x^{3}}{3 \\cdot 2}\\right|_{-1} ^{1}$\n",
    "\n",
    "$E\\left[x^{2}\\right]=\\frac{1}{6}-\\left(-\\frac{1}{6}\\right)=\\frac{1}{3}$\n",
    "\\end{center}\n",
    "\n",
    "O quarto momento é dado por:\n",
    "\\begin{center}\n",
    "$E\\left[x^{4}\\right]=\\int_{-\\infty}^{\\infty} x^{4} f(x) d x=\\int_{-1}^{1} x^{4} \\cdot 1 / 2 d x=\\left.\\frac{x^{5}}{5 \\cdot 2}\\right|_{-1} ^{1}$\n",
    "\n",
    "$E\\left[x^{4}\\right]=\\frac{1}{10}-\\left(-\\frac{1}{10}\\right)=\\frac{1}{5}$\n",
    "\\end{center}"
   ]
  },
  {
   "cell_type": "code",
   "execution_count": null,
   "metadata": {},
   "outputs": [],
   "source": []
  }
 ],
 "metadata": {
  "kernelspec": {
   "display_name": "Python 3",
   "language": "python",
   "name": "python3"
  },
  "language_info": {
   "codemirror_mode": {
    "name": "ipython",
    "version": 3
   },
   "file_extension": ".py",
   "mimetype": "text/x-python",
   "name": "python",
   "nbconvert_exporter": "python",
   "pygments_lexer": "ipython3",
   "version": "3.6.8"
  }
 },
 "nbformat": 4,
 "nbformat_minor": 2
}
