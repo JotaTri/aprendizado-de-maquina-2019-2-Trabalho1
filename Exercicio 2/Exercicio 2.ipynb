{
 "cells": [
  {
   "cell_type": "markdown",
   "metadata": {},
   "source": [
    "## Exercicio 2\n",
    "\n",
    "\\begin{center}\n",
    "$x = [ 1,2,3 ]$\n",
    "\n",
    "$y = [ 2,4,6 ]$\n",
    "\n",
    "$x: \\quad S _ { x } = \\sqrt { \\frac { 1 } { N } } \\sum _ { t = 1 } ^ { N } \\left( x _ { t } - \\mu \\right) ^ { 2 }$\n",
    "\n",
    "$S _ { x } = \\sqrt { \\frac { 1 } { 3 } \\left[ ( 1 - 2 ) ^ { 2 } + ( 2 - 2 ) ^ { 2 } + ( 3 - 2 ) ^ { 2 } \\right] } = \\sqrt { \\frac { 2 } { 3 } }$\n",
    "\n",
    "$S _ { y } = \\sqrt { \\frac { 1 } { 3 } \\left[ ( 2 - 4 ) ^ { 2 } + ( 4 - 4 ) ^ { 2 } + ( 6 - 4 ) ^ { 2 } \\right] } = \\sqrt { \\frac { 8 } { 3 } }$\n",
    "\n",
    "$S _ { x y } = \\frac { 1 } { N } \\sum _ { t = 1 } ^ { N } \\left( x _ { t } - P _ { x } \\right) \\left( y _ { t } - \\mu _ { x } \\right)$\n",
    "\n",
    "$5 x y = \\frac { 1 } { 3 } [ ( 1 - 2 ) ( 2 - 4 ) + ( 2 - 2 ) ( 4 - 4 ) + ( 3 - 2 ) ( 6 - 4 ) ]$\n",
    "\n",
    "$S _ { x y } = \\frac { z _ { 1 / 3 } } { 3 }$\n",
    "\n",
    "$r _ { x y } = \\frac { S _ { x y } } { S _ { x } S _ { y } } = \\frac { \\frac { 4 } { 3 } } { \\frac { \\sqrt { 2 } } { \\sqrt { 3 } } \\frac { 2 \\sqrt { 2 } } { \\sqrt { 3 } } } = 1$\n",
    "\\end{center}\n",
    "\n",
    "\n",
    "\n",
    "Agora para outros valores:\n",
    "\n",
    "\\begin{center}\n",
    "$x = [ 2,4,6 ]$\n",
    "\n",
    "$y = [ 4,8,12 ]$\n",
    "\n",
    "$S _ { x } = \\frac { 2 \\sqrt { 2 } } { \\sqrt { 3 } }$\n",
    "\n",
    "$S _ { y } = \\sqrt { \\frac { 1 } { 3 } \\left[ ( 4 - 8 ) ^ { 2 } + ( 8 - 8 ) ^ { 2 } + ( 12 - 8 ) ^ { 2 } \\right] }$\n",
    "\n",
    "$S _ { y } = \\sqrt { \\frac { 32 } { 3 } }$\n",
    "\n",
    "$S _ { x y } = \\frac { 1 } { 3 } [ ( 2 - 4 ) ( 4 - 8 ) + ( 4 - 4 ) ( 8 - 8 ) + ( 6 - 4 ) ( 12 - 8 ) ]$\n",
    "\n",
    "$r _ { x } y = \\frac { \\frac { 16 } { 3 } } { \\frac { \\sqrt { 8 } } { \\sqrt { 3 } } \\cdot \\frac { \\sqrt { 32 } } { \\sqrt { 3 } } } = \\frac { 16 \\cdot 3 } { 3 \\cdot 2 \\cdot \\sqrt { 2 } \\cdot 4 \\cdot \\sqrt { 2 } } = 1$\n",
    "\\end{center}"
   ]
  }
 ],
 "metadata": {
  "kernelspec": {
   "display_name": "Python 3",
   "language": "python",
   "name": "python3"
  },
  "language_info": {
   "codemirror_mode": {
    "name": "ipython",
    "version": 3
   },
   "file_extension": ".py",
   "mimetype": "text/x-python",
   "name": "python",
   "nbconvert_exporter": "python",
   "pygments_lexer": "ipython3",
   "version": "3.6.8"
  }
 },
 "nbformat": 4,
 "nbformat_minor": 2
}
